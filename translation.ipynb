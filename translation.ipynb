{
 "cells": [
  {
   "cell_type": "code",
   "execution_count": 33,
   "id": "d3410767",
   "metadata": {},
   "outputs": [
    {
     "name": "stdout",
     "output_type": "stream",
     "text": [
      "The nb_black extension is already loaded. To reload it, use:\n",
      "  %reload_ext nb_black\n"
     ]
    },
    {
     "data": {
      "application/javascript": [
       "\n",
       "            setTimeout(function() {\n",
       "                var nbb_cell_id = 33;\n",
       "                var nbb_unformatted_code = \"%load_ext nb_black\";\n",
       "                var nbb_formatted_code = \"%load_ext nb_black\";\n",
       "                var nbb_cells = Jupyter.notebook.get_cells();\n",
       "                for (var i = 0; i < nbb_cells.length; ++i) {\n",
       "                    if (nbb_cells[i].input_prompt_number == nbb_cell_id) {\n",
       "                        if (nbb_cells[i].get_text() == nbb_unformatted_code) {\n",
       "                             nbb_cells[i].set_text(nbb_formatted_code);\n",
       "                        }\n",
       "                        break;\n",
       "                    }\n",
       "                }\n",
       "            }, 500);\n",
       "            "
      ],
      "text/plain": [
       "<IPython.core.display.Javascript object>"
      ]
     },
     "metadata": {},
     "output_type": "display_data"
    }
   ],
   "source": [
    "%load_ext nb_black"
   ]
  },
  {
   "cell_type": "code",
   "execution_count": 34,
   "id": "cabd7aba",
   "metadata": {},
   "outputs": [
    {
     "data": {
      "application/javascript": [
       "\n",
       "            setTimeout(function() {\n",
       "                var nbb_cell_id = 34;\n",
       "                var nbb_unformatted_code = \"from transformers import M2M100ForConditionalGeneration, M2M100Tokenizer\";\n",
       "                var nbb_formatted_code = \"from transformers import M2M100ForConditionalGeneration, M2M100Tokenizer\";\n",
       "                var nbb_cells = Jupyter.notebook.get_cells();\n",
       "                for (var i = 0; i < nbb_cells.length; ++i) {\n",
       "                    if (nbb_cells[i].input_prompt_number == nbb_cell_id) {\n",
       "                        if (nbb_cells[i].get_text() == nbb_unformatted_code) {\n",
       "                             nbb_cells[i].set_text(nbb_formatted_code);\n",
       "                        }\n",
       "                        break;\n",
       "                    }\n",
       "                }\n",
       "            }, 500);\n",
       "            "
      ],
      "text/plain": [
       "<IPython.core.display.Javascript object>"
      ]
     },
     "metadata": {},
     "output_type": "display_data"
    }
   ],
   "source": [
    "from transformers import M2M100ForConditionalGeneration, M2M100Tokenizer"
   ]
  },
  {
   "cell_type": "code",
   "execution_count": 35,
   "id": "7e01d60e",
   "metadata": {},
   "outputs": [
    {
     "data": {
      "application/javascript": [
       "\n",
       "            setTimeout(function() {\n",
       "                var nbb_cell_id = 35;\n",
       "                var nbb_unformatted_code = \"import torch\\n\\nif torch.cuda.is_available():\\n    dev = \\\"cuda:0\\\"\\nelse:\\n    dev = \\\"cpu\\\"\\nDEVICE = torch.device(dev)\";\n",
       "                var nbb_formatted_code = \"import torch\\n\\nif torch.cuda.is_available():\\n    dev = \\\"cuda:0\\\"\\nelse:\\n    dev = \\\"cpu\\\"\\nDEVICE = torch.device(dev)\";\n",
       "                var nbb_cells = Jupyter.notebook.get_cells();\n",
       "                for (var i = 0; i < nbb_cells.length; ++i) {\n",
       "                    if (nbb_cells[i].input_prompt_number == nbb_cell_id) {\n",
       "                        if (nbb_cells[i].get_text() == nbb_unformatted_code) {\n",
       "                             nbb_cells[i].set_text(nbb_formatted_code);\n",
       "                        }\n",
       "                        break;\n",
       "                    }\n",
       "                }\n",
       "            }, 500);\n",
       "            "
      ],
      "text/plain": [
       "<IPython.core.display.Javascript object>"
      ]
     },
     "metadata": {},
     "output_type": "display_data"
    }
   ],
   "source": [
    "import torch\n",
    "\n",
    "if torch.cuda.is_available():\n",
    "    dev = \"cuda:0\"\n",
    "else:\n",
    "    dev = \"cpu\"\n",
    "DEVICE = torch.device(dev)"
   ]
  },
  {
   "cell_type": "code",
   "execution_count": 37,
   "id": "92a1efee",
   "metadata": {},
   "outputs": [
    {
     "data": {
      "application/javascript": [
       "\n",
       "            setTimeout(function() {\n",
       "                var nbb_cell_id = 37;\n",
       "                var nbb_unformatted_code = \"import pandas as pd\\n\\ndata = pd.read_csv(\\\"data/train.csv\\\")\";\n",
       "                var nbb_formatted_code = \"import pandas as pd\\n\\ndata = pd.read_csv(\\\"data/train.csv\\\")\";\n",
       "                var nbb_cells = Jupyter.notebook.get_cells();\n",
       "                for (var i = 0; i < nbb_cells.length; ++i) {\n",
       "                    if (nbb_cells[i].input_prompt_number == nbb_cell_id) {\n",
       "                        if (nbb_cells[i].get_text() == nbb_unformatted_code) {\n",
       "                             nbb_cells[i].set_text(nbb_formatted_code);\n",
       "                        }\n",
       "                        break;\n",
       "                    }\n",
       "                }\n",
       "            }, 500);\n",
       "            "
      ],
      "text/plain": [
       "<IPython.core.display.Javascript object>"
      ]
     },
     "metadata": {},
     "output_type": "display_data"
    }
   ],
   "source": [
    "import pandas as pd\n",
    "\n",
    "data = pd.read_csv(\"data/train.csv\")"
   ]
  },
  {
   "cell_type": "code",
   "execution_count": 38,
   "id": "f6726b18",
   "metadata": {},
   "outputs": [
    {
     "data": {
      "application/javascript": [
       "\n",
       "            setTimeout(function() {\n",
       "                var nbb_cell_id = 38;\n",
       "                var nbb_unformatted_code = \"from sklearn.model_selection import train_test_split\\n\\ntrain_data, valid_data = train_test_split(\\n    data,\\n    test_size=0.2,\\n    shuffle=True,\\n    random_state=0,\\n    stratify=data[\\\"language\\\"],\\n)\";\n",
       "                var nbb_formatted_code = \"from sklearn.model_selection import train_test_split\\n\\ntrain_data, valid_data = train_test_split(\\n    data,\\n    test_size=0.2,\\n    shuffle=True,\\n    random_state=0,\\n    stratify=data[\\\"language\\\"],\\n)\";\n",
       "                var nbb_cells = Jupyter.notebook.get_cells();\n",
       "                for (var i = 0; i < nbb_cells.length; ++i) {\n",
       "                    if (nbb_cells[i].input_prompt_number == nbb_cell_id) {\n",
       "                        if (nbb_cells[i].get_text() == nbb_unformatted_code) {\n",
       "                             nbb_cells[i].set_text(nbb_formatted_code);\n",
       "                        }\n",
       "                        break;\n",
       "                    }\n",
       "                }\n",
       "            }, 500);\n",
       "            "
      ],
      "text/plain": [
       "<IPython.core.display.Javascript object>"
      ]
     },
     "metadata": {},
     "output_type": "display_data"
    }
   ],
   "source": [
    "from sklearn.model_selection import train_test_split\n",
    "\n",
    "train_data, valid_data = train_test_split(\n",
    "    data,\n",
    "    test_size=0.2,\n",
    "    shuffle=True,\n",
    "    random_state=0,\n",
    "    stratify=data[\"language\"],\n",
    ")"
   ]
  },
  {
   "cell_type": "code",
   "execution_count": 39,
   "id": "b6162a3f",
   "metadata": {},
   "outputs": [
    {
     "data": {
      "text/html": [
       "<div>\n",
       "<style scoped>\n",
       "    .dataframe tbody tr th:only-of-type {\n",
       "        vertical-align: middle;\n",
       "    }\n",
       "\n",
       "    .dataframe tbody tr th {\n",
       "        vertical-align: top;\n",
       "    }\n",
       "\n",
       "    .dataframe thead th {\n",
       "        text-align: right;\n",
       "    }\n",
       "</style>\n",
       "<table border=\"1\" class=\"dataframe\">\n",
       "  <thead>\n",
       "    <tr style=\"text-align: right;\">\n",
       "      <th></th>\n",
       "      <th>text</th>\n",
       "      <th>label</th>\n",
       "    </tr>\n",
       "    <tr>\n",
       "      <th>language</th>\n",
       "      <th></th>\n",
       "      <th></th>\n",
       "    </tr>\n",
       "  </thead>\n",
       "  <tbody>\n",
       "    <tr>\n",
       "      <th>Chinese</th>\n",
       "      <td>1277</td>\n",
       "      <td>1277</td>\n",
       "    </tr>\n",
       "    <tr>\n",
       "      <th>English</th>\n",
       "      <td>1269</td>\n",
       "      <td>1269</td>\n",
       "    </tr>\n",
       "    <tr>\n",
       "      <th>French</th>\n",
       "      <td>1270</td>\n",
       "      <td>1270</td>\n",
       "    </tr>\n",
       "    <tr>\n",
       "      <th>Italian</th>\n",
       "      <td>1226</td>\n",
       "      <td>1226</td>\n",
       "    </tr>\n",
       "    <tr>\n",
       "      <th>Portuguese</th>\n",
       "      <td>1277</td>\n",
       "      <td>1277</td>\n",
       "    </tr>\n",
       "    <tr>\n",
       "      <th>Spanish</th>\n",
       "      <td>1273</td>\n",
       "      <td>1273</td>\n",
       "    </tr>\n",
       "  </tbody>\n",
       "</table>\n",
       "</div>"
      ],
      "text/plain": [
       "            text  label\n",
       "language               \n",
       "Chinese     1277   1277\n",
       "English     1269   1269\n",
       "French      1270   1270\n",
       "Italian     1226   1226\n",
       "Portuguese  1277   1277\n",
       "Spanish     1273   1273"
      ]
     },
     "execution_count": 39,
     "metadata": {},
     "output_type": "execute_result"
    },
    {
     "data": {
      "application/javascript": [
       "\n",
       "            setTimeout(function() {\n",
       "                var nbb_cell_id = 39;\n",
       "                var nbb_unformatted_code = \"train_data.groupby(\\\"language\\\").count()\";\n",
       "                var nbb_formatted_code = \"train_data.groupby(\\\"language\\\").count()\";\n",
       "                var nbb_cells = Jupyter.notebook.get_cells();\n",
       "                for (var i = 0; i < nbb_cells.length; ++i) {\n",
       "                    if (nbb_cells[i].input_prompt_number == nbb_cell_id) {\n",
       "                        if (nbb_cells[i].get_text() == nbb_unformatted_code) {\n",
       "                             nbb_cells[i].set_text(nbb_formatted_code);\n",
       "                        }\n",
       "                        break;\n",
       "                    }\n",
       "                }\n",
       "            }, 500);\n",
       "            "
      ],
      "text/plain": [
       "<IPython.core.display.Javascript object>"
      ]
     },
     "metadata": {},
     "output_type": "display_data"
    }
   ],
   "source": [
    "train_data.groupby(\"language\").count()"
   ]
  },
  {
   "cell_type": "code",
   "execution_count": 40,
   "id": "d2f00dd8",
   "metadata": {},
   "outputs": [
    {
     "data": {
      "application/javascript": [
       "\n",
       "            setTimeout(function() {\n",
       "                var nbb_cell_id = 40;\n",
       "                var nbb_unformatted_code = \"lang_id_map = {\\n    \\\"English\\\": \\\"en\\\",\\n    \\\"Spanish\\\": \\\"es\\\",\\n    \\\"Portuguese\\\": \\\"pt\\\",\\n    \\\"Italian\\\": \\\"it\\\",\\n    \\\"French\\\": \\\"fr\\\",\\n    \\\"Chinese\\\": \\\"zh\\\",\\n}\\n\\ntranslate_id_map = {\\\"Hindi\\\": \\\"hi\\\", \\\"Korean\\\": \\\"ko\\\", \\\"Arabic\\\": \\\"ar\\\", \\\"Dutch\\\": \\\"nl\\\"}\";\n",
       "                var nbb_formatted_code = \"lang_id_map = {\\n    \\\"English\\\": \\\"en\\\",\\n    \\\"Spanish\\\": \\\"es\\\",\\n    \\\"Portuguese\\\": \\\"pt\\\",\\n    \\\"Italian\\\": \\\"it\\\",\\n    \\\"French\\\": \\\"fr\\\",\\n    \\\"Chinese\\\": \\\"zh\\\",\\n}\\n\\ntranslate_id_map = {\\\"Hindi\\\": \\\"hi\\\", \\\"Korean\\\": \\\"ko\\\", \\\"Arabic\\\": \\\"ar\\\", \\\"Dutch\\\": \\\"nl\\\"}\";\n",
       "                var nbb_cells = Jupyter.notebook.get_cells();\n",
       "                for (var i = 0; i < nbb_cells.length; ++i) {\n",
       "                    if (nbb_cells[i].input_prompt_number == nbb_cell_id) {\n",
       "                        if (nbb_cells[i].get_text() == nbb_unformatted_code) {\n",
       "                             nbb_cells[i].set_text(nbb_formatted_code);\n",
       "                        }\n",
       "                        break;\n",
       "                    }\n",
       "                }\n",
       "            }, 500);\n",
       "            "
      ],
      "text/plain": [
       "<IPython.core.display.Javascript object>"
      ]
     },
     "metadata": {},
     "output_type": "display_data"
    }
   ],
   "source": [
    "lang_id_map = {\n",
    "    \"English\": \"en\",\n",
    "    \"Spanish\": \"es\",\n",
    "    \"Portuguese\": \"pt\",\n",
    "    \"Italian\": \"it\",\n",
    "    \"French\": \"fr\",\n",
    "    \"Chinese\": \"zh\",\n",
    "}\n",
    "\n",
    "translate_id_map = {\"Hindi\": \"hi\", \"Korean\": \"ko\", \"Arabic\": \"ar\", \"Dutch\": \"nl\"}"
   ]
  },
  {
   "cell_type": "code",
   "execution_count": 41,
   "id": "209a6d43",
   "metadata": {},
   "outputs": [
    {
     "data": {
      "application/javascript": [
       "\n",
       "            setTimeout(function() {\n",
       "                var nbb_cell_id = 41;\n",
       "                var nbb_unformatted_code = \"model = M2M100ForConditionalGeneration.from_pretrained(\\\"facebook/m2m100_418M\\\").to(\\n    DEVICE\\n)\\ntokenizer = M2M100Tokenizer.from_pretrained(\\\"facebook/m2m100_418M\\\")\";\n",
       "                var nbb_formatted_code = \"model = M2M100ForConditionalGeneration.from_pretrained(\\\"facebook/m2m100_418M\\\").to(\\n    DEVICE\\n)\\ntokenizer = M2M100Tokenizer.from_pretrained(\\\"facebook/m2m100_418M\\\")\";\n",
       "                var nbb_cells = Jupyter.notebook.get_cells();\n",
       "                for (var i = 0; i < nbb_cells.length; ++i) {\n",
       "                    if (nbb_cells[i].input_prompt_number == nbb_cell_id) {\n",
       "                        if (nbb_cells[i].get_text() == nbb_unformatted_code) {\n",
       "                             nbb_cells[i].set_text(nbb_formatted_code);\n",
       "                        }\n",
       "                        break;\n",
       "                    }\n",
       "                }\n",
       "            }, 500);\n",
       "            "
      ],
      "text/plain": [
       "<IPython.core.display.Javascript object>"
      ]
     },
     "metadata": {},
     "output_type": "display_data"
    }
   ],
   "source": [
    "model = M2M100ForConditionalGeneration.from_pretrained(\"facebook/m2m100_418M\").to(\n",
    "    DEVICE\n",
    ")\n",
    "tokenizer = M2M100Tokenizer.from_pretrained(\"facebook/m2m100_418M\")"
   ]
  },
  {
   "cell_type": "code",
   "execution_count": 42,
   "id": "d5d0f294",
   "metadata": {},
   "outputs": [
    {
     "data": {
      "application/javascript": [
       "\n",
       "            setTimeout(function() {\n",
       "                var nbb_cell_id = 42;\n",
       "                var nbb_unformatted_code = \"lang_id_map.update(translate_id_map)\";\n",
       "                var nbb_formatted_code = \"lang_id_map.update(translate_id_map)\";\n",
       "                var nbb_cells = Jupyter.notebook.get_cells();\n",
       "                for (var i = 0; i < nbb_cells.length; ++i) {\n",
       "                    if (nbb_cells[i].input_prompt_number == nbb_cell_id) {\n",
       "                        if (nbb_cells[i].get_text() == nbb_unformatted_code) {\n",
       "                             nbb_cells[i].set_text(nbb_formatted_code);\n",
       "                        }\n",
       "                        break;\n",
       "                    }\n",
       "                }\n",
       "            }, 500);\n",
       "            "
      ],
      "text/plain": [
       "<IPython.core.display.Javascript object>"
      ]
     },
     "metadata": {},
     "output_type": "display_data"
    }
   ],
   "source": [
    "lang_id_map.update(translate_id_map)"
   ]
  },
  {
   "cell_type": "code",
   "execution_count": 48,
   "id": "57e12d92",
   "metadata": {},
   "outputs": [
    {
     "name": "stderr",
     "output_type": "stream",
     "text": [
      "/soe/sgarg6/conda/envs/nlp_env/lib/python3.10/site-packages/transformers/generation_utils.py:1359: UserWarning: Neither `max_length` nor `max_new_tokens` has been set, `max_length` will default to 200 (`self.config.max_length`). Controlling `max_length` via the config is deprecated and `max_length` will be removed from the config in v5 of Transformers -- we recommend using `max_new_tokens` to control the maximum length of the generation.\n",
      "  warnings.warn(\n"
     ]
    },
    {
     "name": "stdout",
     "output_type": "stream",
     "text": [
      "Translated 5700 rows, time: 348.3814821243286\n",
      "Translated 6800 rows, time: 1300.767899274826\n",
      "Translated 1000 rows, time: 1897.9547016620636\n",
      "Translated 3200 rows, time: 2418.0205433368683\n",
      "Translated 7600 rows, time: 2731.2635521888733\n",
      "Translated 4200 rows, time: 2958.6970460414886\n",
      "Translated 1600 rows, time: 3011.8779911994934\n",
      "Translated 3800 rows, time: 3019.2263674736023\n",
      "Translated 6700 rows, time: 3330.1551554203033\n",
      "Translated 7400 rows, time: 3337.9796421527863\n",
      "Translated 2500 rows, time: 3350.240747690201\n",
      "Translated 500 rows, time: 3441.387348651886\n",
      "Translated 4400 rows, time: 3540.769341945648\n",
      "Translated 2800 rows, time: 3677.340935945511\n",
      "Translated 3500 rows, time: 3966.8482072353363\n",
      "Translated 8600 rows, time: 4161.120901823044\n",
      "Translated 1800 rows, time: 4384.716200351715\n"
     ]
    },
    {
     "data": {
      "application/javascript": [
       "\n",
       "            setTimeout(function() {\n",
       "                var nbb_cell_id = 48;\n",
       "                var nbb_unformatted_code = \"import time\\n\\n\\ndef get_text_translate(text, src_lang, to_lang):\\n    tokenizer.src_lang = lang_id_map[src_lang]\\n    encoded_text = tokenizer(text, return_tensors=\\\"pt\\\").to(DEVICE)\\n    generated_tokens = model.generate(\\n        **encoded_text, forced_bos_token_id=tokenizer.get_lang_id(to_lang)\\n    )\\n    return tokenizer.batch_decode(generated_tokens, skip_special_tokens=True)\\n\\n\\nvalid_translate = []\\nstart_time = time.time()\\nfor idx, row in valid_data.iterrows():\\n    for lang, lang_id in translate_id_map.items():\\n        to_translate = {\\\"label\\\": row[\\\"label\\\"]}\\n        to_translate[\\\"language\\\"] = row[\\\"language\\\"]\\n        to_translate[\\\"text\\\"] = row[\\\"text\\\"]\\n        valid_translate.append(to_translate)\\n        translation = get_text_translate(row[\\\"text\\\"], row[\\\"language\\\"], lang_id)\\n        to_translate[\\\"language\\\"] = lang\\n        to_translate[\\\"text\\\"] = translation\\n        valid_translate.append(to_translate)\\n    if idx % 100 == 0:\\n        print(f\\\"Translated {idx} rows, time: {time.time() - start_time}\\\")\";\n",
       "                var nbb_formatted_code = \"import time\\n\\n\\ndef get_text_translate(text, src_lang, to_lang):\\n    tokenizer.src_lang = lang_id_map[src_lang]\\n    encoded_text = tokenizer(text, return_tensors=\\\"pt\\\").to(DEVICE)\\n    generated_tokens = model.generate(\\n        **encoded_text, forced_bos_token_id=tokenizer.get_lang_id(to_lang)\\n    )\\n    return tokenizer.batch_decode(generated_tokens, skip_special_tokens=True)\\n\\n\\nvalid_translate = []\\nstart_time = time.time()\\nfor idx, row in valid_data.iterrows():\\n    for lang, lang_id in translate_id_map.items():\\n        to_translate = {\\\"label\\\": row[\\\"label\\\"]}\\n        to_translate[\\\"language\\\"] = row[\\\"language\\\"]\\n        to_translate[\\\"text\\\"] = row[\\\"text\\\"]\\n        valid_translate.append(to_translate)\\n        translation = get_text_translate(row[\\\"text\\\"], row[\\\"language\\\"], lang_id)\\n        to_translate[\\\"language\\\"] = lang\\n        to_translate[\\\"text\\\"] = translation\\n        valid_translate.append(to_translate)\\n    if idx % 100 == 0:\\n        print(f\\\"Translated {idx} rows, time: {time.time() - start_time}\\\")\";\n",
       "                var nbb_cells = Jupyter.notebook.get_cells();\n",
       "                for (var i = 0; i < nbb_cells.length; ++i) {\n",
       "                    if (nbb_cells[i].input_prompt_number == nbb_cell_id) {\n",
       "                        if (nbb_cells[i].get_text() == nbb_unformatted_code) {\n",
       "                             nbb_cells[i].set_text(nbb_formatted_code);\n",
       "                        }\n",
       "                        break;\n",
       "                    }\n",
       "                }\n",
       "            }, 500);\n",
       "            "
      ],
      "text/plain": [
       "<IPython.core.display.Javascript object>"
      ]
     },
     "metadata": {},
     "output_type": "display_data"
    }
   ],
   "source": [
    "import time\n",
    "\n",
    "\n",
    "def get_text_translate(text, src_lang, to_lang):\n",
    "    tokenizer.src_lang = lang_id_map[src_lang]\n",
    "    encoded_text = tokenizer(text, return_tensors=\"pt\").to(DEVICE)\n",
    "    generated_tokens = model.generate(\n",
    "        **encoded_text, forced_bos_token_id=tokenizer.get_lang_id(to_lang)\n",
    "    )\n",
    "    return tokenizer.batch_decode(generated_tokens, skip_special_tokens=True)\n",
    "\n",
    "\n",
    "valid_translate = []\n",
    "start_time = time.time()\n",
    "for idx, row in valid_data.iterrows():\n",
    "    for lang, lang_id in translate_id_map.items():\n",
    "        to_translate = {\"label\": row[\"label\"]}\n",
    "        to_translate[\"language\"] = row[\"language\"]\n",
    "        to_translate[\"text\"] = row[\"text\"]\n",
    "        valid_translate.append(to_translate)\n",
    "        translation = get_text_translate(row[\"text\"], row[\"language\"], lang_id)\n",
    "        to_translate[\"language\"] = lang\n",
    "        to_translate[\"text\"] = translation\n",
    "        valid_translate.append(to_translate)\n",
    "    if idx % 100 == 0:\n",
    "        print(f\"Translated {idx} rows, time: {time.time() - start_time}\")"
   ]
  },
  {
   "cell_type": "code",
   "execution_count": 49,
   "id": "c1cd7b57",
   "metadata": {},
   "outputs": [
    {
     "data": {
      "application/javascript": [
       "\n",
       "            setTimeout(function() {\n",
       "                var nbb_cell_id = 49;\n",
       "                var nbb_unformatted_code = \"valid_translate_df = pd.DataFrame(valid_translate)\\nvalid_translate_df.to_csv(\\\"data/valid_translate.tsv\\\", sep=\\\"\\\\t\\\")\";\n",
       "                var nbb_formatted_code = \"valid_translate_df = pd.DataFrame(valid_translate)\\nvalid_translate_df.to_csv(\\\"data/valid_translate.tsv\\\", sep=\\\"\\\\t\\\")\";\n",
       "                var nbb_cells = Jupyter.notebook.get_cells();\n",
       "                for (var i = 0; i < nbb_cells.length; ++i) {\n",
       "                    if (nbb_cells[i].input_prompt_number == nbb_cell_id) {\n",
       "                        if (nbb_cells[i].get_text() == nbb_unformatted_code) {\n",
       "                             nbb_cells[i].set_text(nbb_formatted_code);\n",
       "                        }\n",
       "                        break;\n",
       "                    }\n",
       "                }\n",
       "            }, 500);\n",
       "            "
      ],
      "text/plain": [
       "<IPython.core.display.Javascript object>"
      ]
     },
     "metadata": {},
     "output_type": "display_data"
    }
   ],
   "source": [
    "valid_translate_df = pd.DataFrame(valid_translate)\n",
    "valid_translate_df.to_csv(\"data/valid_translate.tsv\", sep=\"\\t\")"
   ]
  },
  {
   "cell_type": "code",
   "execution_count": 46,
   "id": "a1b456fd",
   "metadata": {},
   "outputs": [
    {
     "name": "stdout",
     "output_type": "stream",
     "text": [
      "<class 'pandas.core.frame.DataFrame'>\n",
      "Int64Index: 1899 entries, 2309 to 8660\n",
      "Data columns (total 3 columns):\n",
      " #   Column    Non-Null Count  Dtype  \n",
      "---  ------    --------------  -----  \n",
      " 0   text      1899 non-null   object \n",
      " 1   label     1899 non-null   float64\n",
      " 2   language  1899 non-null   object \n",
      "dtypes: float64(1), object(2)\n",
      "memory usage: 59.3+ KB\n"
     ]
    },
    {
     "data": {
      "application/javascript": [
       "\n",
       "            setTimeout(function() {\n",
       "                var nbb_cell_id = 46;\n",
       "                var nbb_unformatted_code = \"valid_data.info()\";\n",
       "                var nbb_formatted_code = \"valid_data.info()\";\n",
       "                var nbb_cells = Jupyter.notebook.get_cells();\n",
       "                for (var i = 0; i < nbb_cells.length; ++i) {\n",
       "                    if (nbb_cells[i].input_prompt_number == nbb_cell_id) {\n",
       "                        if (nbb_cells[i].get_text() == nbb_unformatted_code) {\n",
       "                             nbb_cells[i].set_text(nbb_formatted_code);\n",
       "                        }\n",
       "                        break;\n",
       "                    }\n",
       "                }\n",
       "            }, 500);\n",
       "            "
      ],
      "text/plain": [
       "<IPython.core.display.Javascript object>"
      ]
     },
     "metadata": {},
     "output_type": "display_data"
    }
   ],
   "source": [
    "valid_data.info()"
   ]
  },
  {
   "cell_type": "code",
   "execution_count": 50,
   "id": "d8f798eb",
   "metadata": {},
   "outputs": [
    {
     "name": "stdout",
     "output_type": "stream",
     "text": [
      "<class 'pandas.core.frame.DataFrame'>\n",
      "RangeIndex: 15192 entries, 0 to 15191\n",
      "Data columns (total 3 columns):\n",
      " #   Column    Non-Null Count  Dtype  \n",
      "---  ------    --------------  -----  \n",
      " 0   label     15192 non-null  float64\n",
      " 1   language  15192 non-null  object \n",
      " 2   text      15192 non-null  object \n",
      "dtypes: float64(1), object(2)\n",
      "memory usage: 356.2+ KB\n"
     ]
    },
    {
     "data": {
      "application/javascript": [
       "\n",
       "            setTimeout(function() {\n",
       "                var nbb_cell_id = 50;\n",
       "                var nbb_unformatted_code = \"valid_translate_df.info()\";\n",
       "                var nbb_formatted_code = \"valid_translate_df.info()\";\n",
       "                var nbb_cells = Jupyter.notebook.get_cells();\n",
       "                for (var i = 0; i < nbb_cells.length; ++i) {\n",
       "                    if (nbb_cells[i].input_prompt_number == nbb_cell_id) {\n",
       "                        if (nbb_cells[i].get_text() == nbb_unformatted_code) {\n",
       "                             nbb_cells[i].set_text(nbb_formatted_code);\n",
       "                        }\n",
       "                        break;\n",
       "                    }\n",
       "                }\n",
       "            }, 500);\n",
       "            "
      ],
      "text/plain": [
       "<IPython.core.display.Javascript object>"
      ]
     },
     "metadata": {},
     "output_type": "display_data"
    }
   ],
   "source": [
    "valid_translate_df.info()"
   ]
  },
  {
   "cell_type": "code",
   "execution_count": 12,
   "id": "45fd23f1",
   "metadata": {},
   "outputs": [
    {
     "name": "stderr",
     "output_type": "stream",
     "text": [
      "/soe/sgarg6/conda/envs/nlp_env/lib/python3.10/site-packages/transformers/generation_utils.py:1359: UserWarning: Neither `max_length` nor `max_new_tokens` has been set, `max_length` will default to 200 (`self.config.max_length`). Controlling `max_length` via the config is deprecated and `max_length` will be removed from the config in v5 of Transformers -- we recommend using `max_new_tokens` to control the maximum length of the generation.\n",
      "  warnings.warn(\n"
     ]
    },
    {
     "name": "stdout",
     "output_type": "stream",
     "text": [
      "Translated 2000 rows, time: 1055.413194179535\n",
      "Translated 5100 rows, time: 2684.9987077713013\n",
      "Translated 8800 rows, time: 2921.2999069690704\n",
      "Translated 2100 rows, time: 3463.0867998600006\n",
      "Translated 5400 rows, time: 3658.5993473529816\n",
      "Translated 1400 rows, time: 4072.225198507309\n",
      "Translated 6000 rows, time: 4074.7356581687927\n",
      "Translated 5500 rows, time: 4119.256384849548\n",
      "Translated 3100 rows, time: 4395.836714029312\n",
      "Translated 4900 rows, time: 4552.5313675403595\n",
      "Translated 9100 rows, time: 4630.211196184158\n",
      "Translated 800 rows, time: 4672.650715351105\n",
      "Translated 200 rows, time: 5886.027867078781\n",
      "Translated 3300 rows, time: 5899.491555452347\n",
      "Translated 100 rows, time: 6072.639766216278\n",
      "Translated 8200 rows, time: 7168.2985055446625\n",
      "Translated 3900 rows, time: 7354.317500829697\n",
      "Translated 8400 rows, time: 7431.445020198822\n",
      "Translated 6400 rows, time: 7511.999277830124\n",
      "Translated 700 rows, time: 7702.463855266571\n",
      "Translated 3700 rows, time: 7755.862390756607\n",
      "Translated 0 rows, time: 8095.518843412399\n",
      "Translated 8300 rows, time: 8380.352124452591\n",
      "Translated 4300 rows, time: 8441.997074842453\n",
      "Translated 1500 rows, time: 8557.695990800858\n",
      "Translated 300 rows, time: 8617.455533504486\n",
      "Translated 6600 rows, time: 8758.983746051788\n",
      "Translated 2200 rows, time: 8813.084819316864\n",
      "Translated 2900 rows, time: 8937.864610671997\n",
      "Translated 9200 rows, time: 9235.513506174088\n",
      "Translated 5600 rows, time: 9574.575479745865\n",
      "Translated 7100 rows, time: 9609.388654470444\n",
      "Translated 3600 rows, time: 9613.824847221375\n",
      "Translated 4600 rows, time: 9964.338912963867\n",
      "Translated 5800 rows, time: 10274.997102975845\n",
      "Translated 2300 rows, time: 10303.887712717056\n",
      "Translated 1900 rows, time: 10598.00757074356\n",
      "Translated 6200 rows, time: 10743.903877735138\n",
      "Translated 7900 rows, time: 11096.51010107994\n",
      "Translated 1300 rows, time: 11418.429826259613\n",
      "Translated 2600 rows, time: 11915.740708351135\n",
      "Translated 8100 rows, time: 11956.92640709877\n",
      "Translated 9400 rows, time: 12105.330302238464\n",
      "Translated 8000 rows, time: 12134.534089565277\n",
      "Translated 7300 rows, time: 12304.099684476852\n",
      "Translated 1700 rows, time: 12449.680685043335\n",
      "Translated 3000 rows, time: 12780.949308872223\n",
      "Translated 900 rows, time: 12841.930012464523\n",
      "Translated 1200 rows, time: 13608.971851110458\n",
      "Translated 7200 rows, time: 13637.573412179947\n",
      "Translated 8900 rows, time: 13862.442453861237\n",
      "Translated 7800 rows, time: 14001.73736691475\n",
      "Translated 8700 rows, time: 14056.669457435608\n",
      "Translated 4100 rows, time: 14449.907661437988\n",
      "Translated 5200 rows, time: 15299.424122810364\n",
      "Translated 4500 rows, time: 15726.802092552185\n",
      "Translated 7500 rows, time: 16035.99038887024\n",
      "Translated 7700 rows, time: 16050.03513431549\n",
      "Translated 2400 rows, time: 16094.535995721817\n",
      "Translated 3400 rows, time: 16453.87591600418\n",
      "Translated 5300 rows, time: 16812.7215116024\n",
      "Translated 4700 rows, time: 16850.397620916367\n",
      "Translated 4000 rows, time: 16930.896679878235\n",
      "Translated 9000 rows, time: 17016.290387630463\n",
      "Translated 4800 rows, time: 17328.862910032272\n",
      "Translated 5900 rows, time: 17624.834324598312\n",
      "Translated 6500 rows, time: 17701.06440114975\n",
      "Translated 8500 rows, time: 17952.20063304901\n",
      "Translated 6100 rows, time: 18632.230453252792\n",
      "Translated 2700 rows, time: 18863.793433189392\n",
      "Translated 9300 rows, time: 18894.358865261078\n",
      "Translated 400 rows, time: 18911.129815340042\n",
      "Translated 7000 rows, time: 19205.637345790863\n",
      "Translated 1100 rows, time: 19339.030734300613\n",
      "Translated 6300 rows, time: 19417.318882226944\n",
      "Translated 600 rows, time: 19445.497676610947\n",
      "Translated 6900 rows, time: 19496.38522362709\n"
     ]
    },
    {
     "data": {
      "application/javascript": [
       "\n",
       "            setTimeout(function() {\n",
       "                var nbb_cell_id = 12;\n",
       "                var nbb_unformatted_code = \"import time\\n\\ndef get_text_translate(text, src_lang, to_lang):\\n    tokenizer.src_lang = lang_id_map[src_lang]\\n    encoded_text = tokenizer(text, return_tensors=\\\"pt\\\").to(DEVICE)\\n    generated_tokens = model.generate(\\n        **encoded_text, forced_bos_token_id=tokenizer.get_lang_id(to_lang)\\n    )\\n    return tokenizer.batch_decode(generated_tokens, skip_special_tokens=True)\\n\\n\\nfull_translate = []\\nstart_time = time.time()\\nfor idx, row in train_data.iterrows():\\n\\n    for lang, lang_id in lang_id_map.items():\\n        to_translate = {\\\"label\\\": row[\\\"label\\\"]}\\n        to_translate[\\\"language\\\"] = lang\\n        if lang == row[\\\"language\\\"]:\\n\\n            to_translate[\\\"text\\\"] = row[\\\"text\\\"]\\n            full_translate.append(to_translate)\\n            continue\\n        translation = get_text_translate(row[\\\"text\\\"], row[\\\"language\\\"], lang_id)\\n        to_translate[\\\"text\\\"] = translation\\n        full_translate.append(to_translate)\\n    if idx % 100 == 0:\\n        print(f\\\"Translated {idx} rows, time: {time.time() - start_time}\\\")\";\n",
       "                var nbb_formatted_code = \"import time\\n\\n\\ndef get_text_translate(text, src_lang, to_lang):\\n    tokenizer.src_lang = lang_id_map[src_lang]\\n    encoded_text = tokenizer(text, return_tensors=\\\"pt\\\").to(DEVICE)\\n    generated_tokens = model.generate(\\n        **encoded_text, forced_bos_token_id=tokenizer.get_lang_id(to_lang)\\n    )\\n    return tokenizer.batch_decode(generated_tokens, skip_special_tokens=True)\\n\\n\\nfull_translate = []\\nstart_time = time.time()\\nfor idx, row in train_data.iterrows():\\n\\n    for lang, lang_id in lang_id_map.items():\\n        to_translate = {\\\"label\\\": row[\\\"label\\\"]}\\n        to_translate[\\\"language\\\"] = lang\\n        if lang == row[\\\"language\\\"]:\\n\\n            to_translate[\\\"text\\\"] = row[\\\"text\\\"]\\n            full_translate.append(to_translate)\\n            continue\\n        translation = get_text_translate(row[\\\"text\\\"], row[\\\"language\\\"], lang_id)\\n        to_translate[\\\"text\\\"] = translation\\n        full_translate.append(to_translate)\\n    if idx % 100 == 0:\\n        print(f\\\"Translated {idx} rows, time: {time.time() - start_time}\\\")\";\n",
       "                var nbb_cells = Jupyter.notebook.get_cells();\n",
       "                for (var i = 0; i < nbb_cells.length; ++i) {\n",
       "                    if (nbb_cells[i].input_prompt_number == nbb_cell_id) {\n",
       "                        if (nbb_cells[i].get_text() == nbb_unformatted_code) {\n",
       "                             nbb_cells[i].set_text(nbb_formatted_code);\n",
       "                        }\n",
       "                        break;\n",
       "                    }\n",
       "                }\n",
       "            }, 500);\n",
       "            "
      ],
      "text/plain": [
       "<IPython.core.display.Javascript object>"
      ]
     },
     "metadata": {},
     "output_type": "display_data"
    }
   ],
   "source": [
    "import time\n",
    "\n",
    "def get_text_translate(text, src_lang, to_lang):\n",
    "    tokenizer.src_lang = lang_id_map[src_lang]\n",
    "    encoded_text = tokenizer(text, return_tensors=\"pt\").to(DEVICE)\n",
    "    generated_tokens = model.generate(\n",
    "        **encoded_text, forced_bos_token_id=tokenizer.get_lang_id(to_lang)\n",
    "    )\n",
    "    return tokenizer.batch_decode(generated_tokens, skip_special_tokens=True)\n",
    "\n",
    "\n",
    "full_translate = []\n",
    "start_time = time.time()\n",
    "for idx, row in train_data.iterrows():\n",
    "\n",
    "    for lang, lang_id in lang_id_map.items():\n",
    "        to_translate = {\"label\": row[\"label\"]}\n",
    "        to_translate[\"language\"] = lang\n",
    "        if lang == row[\"language\"]:\n",
    "            to_translate[\"text\"] = row[\"text\"]\n",
    "            full_translate.append(to_translate)\n",
    "            continue\n",
    "        translation = get_text_translate(row[\"text\"], row[\"language\"], lang_id)\n",
    "        to_translate[\"text\"] = translation\n",
    "        full_translate.append(to_translate)\n",
    "    if idx % 100 == 0:\n",
    "        print(f\"Translated {idx} rows, time: {time.time() - start_time}\")"
   ]
  },
  {
   "cell_type": "code",
   "execution_count": 13,
   "id": "9176550d",
   "metadata": {},
   "outputs": [
    {
     "data": {
      "application/javascript": [
       "\n",
       "            setTimeout(function() {\n",
       "                var nbb_cell_id = 13;\n",
       "                var nbb_unformatted_code = \"full_translate_df = pd.DataFrame(full_translate)\\nfull_translate_df.to_csv(\\\"full_translate_all.tsv\\\", sep = \\\"\\\\t\\\")\";\n",
       "                var nbb_formatted_code = \"full_translate_df = pd.DataFrame(full_translate)\\nfull_translate_df.to_csv(\\\"full_translate_all.tsv\\\", sep=\\\"\\\\t\\\")\";\n",
       "                var nbb_cells = Jupyter.notebook.get_cells();\n",
       "                for (var i = 0; i < nbb_cells.length; ++i) {\n",
       "                    if (nbb_cells[i].input_prompt_number == nbb_cell_id) {\n",
       "                        if (nbb_cells[i].get_text() == nbb_unformatted_code) {\n",
       "                             nbb_cells[i].set_text(nbb_formatted_code);\n",
       "                        }\n",
       "                        break;\n",
       "                    }\n",
       "                }\n",
       "            }, 500);\n",
       "            "
      ],
      "text/plain": [
       "<IPython.core.display.Javascript object>"
      ]
     },
     "metadata": {},
     "output_type": "display_data"
    }
   ],
   "source": [
    "full_translate_df = pd.DataFrame(full_translate)\n",
    "full_translate_df.to_csv(\"full_translate_all.tsv\", sep=\"\\t\")"
   ]
  },
  {
   "cell_type": "code",
   "execution_count": 29,
   "id": "96b94a66",
   "metadata": {},
   "outputs": [
    {
     "data": {
      "application/javascript": [
       "\n",
       "            setTimeout(function() {\n",
       "                var nbb_cell_id = 29;\n",
       "                var nbb_unformatted_code = \"full_translate_df = pd.read_csv(\\\"full_translate_all.tsv\\\", sep=\\\"\\\\t\\\")\\ndel full_translate_df[\\\"Unnamed: 0\\\"]\";\n",
       "                var nbb_formatted_code = \"full_translate_df = pd.read_csv(\\\"full_translate_all.tsv\\\", sep=\\\"\\\\t\\\")\\ndel full_translate_df[\\\"Unnamed: 0\\\"]\";\n",
       "                var nbb_cells = Jupyter.notebook.get_cells();\n",
       "                for (var i = 0; i < nbb_cells.length; ++i) {\n",
       "                    if (nbb_cells[i].input_prompt_number == nbb_cell_id) {\n",
       "                        if (nbb_cells[i].get_text() == nbb_unformatted_code) {\n",
       "                             nbb_cells[i].set_text(nbb_formatted_code);\n",
       "                        }\n",
       "                        break;\n",
       "                    }\n",
       "                }\n",
       "            }, 500);\n",
       "            "
      ],
      "text/plain": [
       "<IPython.core.display.Javascript object>"
      ]
     },
     "metadata": {},
     "output_type": "display_data"
    }
   ],
   "source": [
    "full_translate_df = pd.read_csv(\"full_translate_all.tsv\", sep=\"\\t\")\n",
    "del full_translate_df[\"Unnamed: 0\"]"
   ]
  },
  {
   "cell_type": "code",
   "execution_count": 30,
   "id": "ef479550",
   "metadata": {},
   "outputs": [
    {
     "name": "stdout",
     "output_type": "stream",
     "text": [
      "<class 'pandas.core.frame.DataFrame'>\n",
      "RangeIndex: 75920 entries, 0 to 75919\n",
      "Data columns (total 3 columns):\n",
      " #   Column    Non-Null Count  Dtype  \n",
      "---  ------    --------------  -----  \n",
      " 0   label     75920 non-null  float64\n",
      " 1   language  75920 non-null  object \n",
      " 2   text      75920 non-null  object \n",
      "dtypes: float64(1), object(2)\n",
      "memory usage: 1.7+ MB\n"
     ]
    },
    {
     "data": {
      "application/javascript": [
       "\n",
       "            setTimeout(function() {\n",
       "                var nbb_cell_id = 30;\n",
       "                var nbb_unformatted_code = \"full_translate_df.info()\";\n",
       "                var nbb_formatted_code = \"full_translate_df.info()\";\n",
       "                var nbb_cells = Jupyter.notebook.get_cells();\n",
       "                for (var i = 0; i < nbb_cells.length; ++i) {\n",
       "                    if (nbb_cells[i].input_prompt_number == nbb_cell_id) {\n",
       "                        if (nbb_cells[i].get_text() == nbb_unformatted_code) {\n",
       "                             nbb_cells[i].set_text(nbb_formatted_code);\n",
       "                        }\n",
       "                        break;\n",
       "                    }\n",
       "                }\n",
       "            }, 500);\n",
       "            "
      ],
      "text/plain": [
       "<IPython.core.display.Javascript object>"
      ]
     },
     "metadata": {},
     "output_type": "display_data"
    }
   ],
   "source": [
    "full_translate_df.info()"
   ]
  },
  {
   "cell_type": "code",
   "execution_count": 31,
   "id": "201d9dd2",
   "metadata": {},
   "outputs": [
    {
     "data": {
      "text/html": [
       "<div>\n",
       "<style scoped>\n",
       "    .dataframe tbody tr th:only-of-type {\n",
       "        vertical-align: middle;\n",
       "    }\n",
       "\n",
       "    .dataframe tbody tr th {\n",
       "        vertical-align: top;\n",
       "    }\n",
       "\n",
       "    .dataframe thead th {\n",
       "        text-align: right;\n",
       "    }\n",
       "</style>\n",
       "<table border=\"1\" class=\"dataframe\">\n",
       "  <thead>\n",
       "    <tr style=\"text-align: right;\">\n",
       "      <th></th>\n",
       "      <th>label</th>\n",
       "      <th>language</th>\n",
       "      <th>text</th>\n",
       "    </tr>\n",
       "  </thead>\n",
       "  <tbody>\n",
       "    <tr>\n",
       "      <th>75915</th>\n",
       "      <td>2.4</td>\n",
       "      <td>Chinese</td>\n",
       "      <td>'我看到了你們的照片,用過濾器改變的孩子,給你們一個安靜的上帝。'</td>\n",
       "    </tr>\n",
       "    <tr>\n",
       "      <th>75916</th>\n",
       "      <td>2.4</td>\n",
       "      <td>Hindi</td>\n",
       "      <td>'मैंने उन बच्चों की तस्वीरें देखी हैं जिन्हें ...</td>\n",
       "    </tr>\n",
       "    <tr>\n",
       "      <th>75917</th>\n",
       "      <td>2.4</td>\n",
       "      <td>Korean</td>\n",
       "      <td>'나는 필터로 수정 된 아이들의 사진을 보았는데, 하느님께 진정으로 주세요.'</td>\n",
       "    </tr>\n",
       "    <tr>\n",
       "      <th>75918</th>\n",
       "      <td>2.4</td>\n",
       "      <td>Arabic</td>\n",
       "      <td>'لقد رأيت صوركم من الأطفال المعدلين مع الفلاتر...</td>\n",
       "    </tr>\n",
       "    <tr>\n",
       "      <th>75919</th>\n",
       "      <td>2.4</td>\n",
       "      <td>Dutch</td>\n",
       "      <td>\"Ik heb foto's van jullie van kinderen gemodif...</td>\n",
       "    </tr>\n",
       "  </tbody>\n",
       "</table>\n",
       "</div>"
      ],
      "text/plain": [
       "       label language                                               text\n",
       "75915    2.4  Chinese                  '我看到了你們的照片,用過濾器改變的孩子,給你們一個安靜的上帝。'\n",
       "75916    2.4    Hindi  'मैंने उन बच्चों की तस्वीरें देखी हैं जिन्हें ...\n",
       "75917    2.4   Korean        '나는 필터로 수정 된 아이들의 사진을 보았는데, 하느님께 진정으로 주세요.'\n",
       "75918    2.4   Arabic  'لقد رأيت صوركم من الأطفال المعدلين مع الفلاتر...\n",
       "75919    2.4    Dutch  \"Ik heb foto's van jullie van kinderen gemodif..."
      ]
     },
     "execution_count": 31,
     "metadata": {},
     "output_type": "execute_result"
    },
    {
     "data": {
      "application/javascript": [
       "\n",
       "            setTimeout(function() {\n",
       "                var nbb_cell_id = 31;\n",
       "                var nbb_unformatted_code = \"full_translate_df['text'] = full_translate_df['text'].apply(lambda x: x.strip(\\\"[]\\\"))\\nfull_translate_df.tail()\";\n",
       "                var nbb_formatted_code = \"full_translate_df[\\\"text\\\"] = full_translate_df[\\\"text\\\"].apply(lambda x: x.strip(\\\"[]\\\"))\\nfull_translate_df.tail()\";\n",
       "                var nbb_cells = Jupyter.notebook.get_cells();\n",
       "                for (var i = 0; i < nbb_cells.length; ++i) {\n",
       "                    if (nbb_cells[i].input_prompt_number == nbb_cell_id) {\n",
       "                        if (nbb_cells[i].get_text() == nbb_unformatted_code) {\n",
       "                             nbb_cells[i].set_text(nbb_formatted_code);\n",
       "                        }\n",
       "                        break;\n",
       "                    }\n",
       "                }\n",
       "            }, 500);\n",
       "            "
      ],
      "text/plain": [
       "<IPython.core.display.Javascript object>"
      ]
     },
     "metadata": {},
     "output_type": "display_data"
    }
   ],
   "source": [
    "full_translate_df[\"text\"] = full_translate_df[\"text\"].apply(lambda x: x.strip(\"[]\"))\n",
    "full_translate_df.tail()"
   ]
  },
  {
   "cell_type": "code",
   "execution_count": 32,
   "id": "a3e83538",
   "metadata": {},
   "outputs": [
    {
     "data": {
      "application/javascript": [
       "\n",
       "            setTimeout(function() {\n",
       "                var nbb_cell_id = 32;\n",
       "                var nbb_unformatted_code = \"full_translate_df.to_csv(\\\"full_translate_all.tsv\\\", sep=\\\"\\\\t\\\")\";\n",
       "                var nbb_formatted_code = \"full_translate_df.to_csv(\\\"full_translate_all.tsv\\\", sep=\\\"\\\\t\\\")\";\n",
       "                var nbb_cells = Jupyter.notebook.get_cells();\n",
       "                for (var i = 0; i < nbb_cells.length; ++i) {\n",
       "                    if (nbb_cells[i].input_prompt_number == nbb_cell_id) {\n",
       "                        if (nbb_cells[i].get_text() == nbb_unformatted_code) {\n",
       "                             nbb_cells[i].set_text(nbb_formatted_code);\n",
       "                        }\n",
       "                        break;\n",
       "                    }\n",
       "                }\n",
       "            }, 500);\n",
       "            "
      ],
      "text/plain": [
       "<IPython.core.display.Javascript object>"
      ]
     },
     "metadata": {},
     "output_type": "display_data"
    }
   ],
   "source": [
    "full_translate_df.to_csv(\"full_translate_all.tsv\", sep=\"\\t\")"
   ]
  },
  {
   "cell_type": "code",
   "execution_count": 37,
   "id": "3903008b",
   "metadata": {},
   "outputs": [
    {
     "data": {
      "application/javascript": [
       "\n",
       "            setTimeout(function() {\n",
       "                var nbb_cell_id = 37;\n",
       "                var nbb_unformatted_code = \"sampled_data = data.sample(len(data) // 6, random_state=3)\";\n",
       "                var nbb_formatted_code = \"sampled_data = data.sample(len(data) // 6, random_state=3)\";\n",
       "                var nbb_cells = Jupyter.notebook.get_cells();\n",
       "                for (var i = 0; i < nbb_cells.length; ++i) {\n",
       "                    if (nbb_cells[i].input_prompt_number == nbb_cell_id) {\n",
       "                        if (nbb_cells[i].get_text() == nbb_unformatted_code) {\n",
       "                             nbb_cells[i].set_text(nbb_formatted_code);\n",
       "                        }\n",
       "                        break;\n",
       "                    }\n",
       "                }\n",
       "            }, 500);\n",
       "            "
      ],
      "text/plain": [
       "<IPython.core.display.Javascript object>"
      ]
     },
     "metadata": {},
     "output_type": "display_data"
    }
   ],
   "source": [
    "sampled_data = data.sample(len(data) // 6, random_state=3)"
   ]
  },
  {
   "cell_type": "code",
   "execution_count": 38,
   "id": "d01b1bd8",
   "metadata": {},
   "outputs": [
    {
     "name": "stdout",
     "output_type": "stream",
     "text": [
      "<class 'pandas.core.frame.DataFrame'>\n",
      "Int64Index: 1581 entries, 7033 to 4403\n",
      "Data columns (total 3 columns):\n",
      " #   Column    Non-Null Count  Dtype  \n",
      "---  ------    --------------  -----  \n",
      " 0   text      1581 non-null   object \n",
      " 1   label     1581 non-null   float64\n",
      " 2   language  1581 non-null   object \n",
      "dtypes: float64(1), object(2)\n",
      "memory usage: 49.4+ KB\n"
     ]
    },
    {
     "data": {
      "application/javascript": [
       "\n",
       "            setTimeout(function() {\n",
       "                var nbb_cell_id = 38;\n",
       "                var nbb_unformatted_code = \"sampled_data.info()\";\n",
       "                var nbb_formatted_code = \"sampled_data.info()\";\n",
       "                var nbb_cells = Jupyter.notebook.get_cells();\n",
       "                for (var i = 0; i < nbb_cells.length; ++i) {\n",
       "                    if (nbb_cells[i].input_prompt_number == nbb_cell_id) {\n",
       "                        if (nbb_cells[i].get_text() == nbb_unformatted_code) {\n",
       "                             nbb_cells[i].set_text(nbb_formatted_code);\n",
       "                        }\n",
       "                        break;\n",
       "                    }\n",
       "                }\n",
       "            }, 500);\n",
       "            "
      ],
      "text/plain": [
       "<IPython.core.display.Javascript object>"
      ]
     },
     "metadata": {},
     "output_type": "display_data"
    }
   ],
   "source": [
    "sampled_data.info()"
   ]
  },
  {
   "cell_type": "code",
   "execution_count": 39,
   "id": "7e62bea5",
   "metadata": {},
   "outputs": [
    {
     "name": "stderr",
     "output_type": "stream",
     "text": [
      "/soe/sgarg6/conda/envs/nlp_env/lib/python3.10/site-packages/transformers/generation_utils.py:1359: UserWarning: Neither `max_length` nor `max_new_tokens` has been set, `max_length` will default to 200 (`self.config.max_length`). Controlling `max_length` via the config is deprecated and `max_length` will be removed from the config in v5 of Transformers -- we recommend using `max_new_tokens` to control the maximum length of the generation.\n",
      "  warnings.warn(\n",
      "/soe/sgarg6/conda/envs/nlp_env/lib/python3.10/site-packages/transformers/generation_utils.py:1359: UserWarning: Neither `max_length` nor `max_new_tokens` has been set, `max_length` will default to 200 (`self.config.max_length`). Controlling `max_length` via the config is deprecated and `max_length` will be removed from the config in v5 of Transformers -- we recommend using `max_new_tokens` to control the maximum length of the generation.\n",
      "  warnings.warn(\n",
      "/soe/sgarg6/conda/envs/nlp_env/lib/python3.10/site-packages/transformers/generation_utils.py:1359: UserWarning: Neither `max_length` nor `max_new_tokens` has been set, `max_length` will default to 200 (`self.config.max_length`). Controlling `max_length` via the config is deprecated and `max_length` will be removed from the config in v5 of Transformers -- we recommend using `max_new_tokens` to control the maximum length of the generation.\n",
      "  warnings.warn(\n",
      "/soe/sgarg6/conda/envs/nlp_env/lib/python3.10/site-packages/transformers/generation_utils.py:1359: UserWarning: Neither `max_length` nor `max_new_tokens` has been set, `max_length` will default to 200 (`self.config.max_length`). Controlling `max_length` via the config is deprecated and `max_length` will be removed from the config in v5 of Transformers -- we recommend using `max_new_tokens` to control the maximum length of the generation.\n",
      "  warnings.warn(\n"
     ]
    },
    {
     "data": {
      "application/javascript": [
       "\n",
       "            setTimeout(function() {\n",
       "                var nbb_cell_id = 39;\n",
       "                var nbb_unformatted_code = \"# translate Hindi to French\\n\\n\\ndef get_translate(x, to_lang):\\n    tokenizer.src_lang = lang_id_map[x[\\\"language\\\"]]\\n    encoded_text = tokenizer(x[\\\"text\\\"], return_tensors=\\\"pt\\\").to(DEVICE)\\n    generated_tokens = model.generate(\\n        **encoded_text, forced_bos_token_id=tokenizer.get_lang_id(to_lang)\\n    )\\n    return tokenizer.batch_decode(generated_tokens, skip_special_tokens=True)\\n\\n\\nfor lang, lang_id in translate_id_map.items():\\n    sampled_data[lang] = sampled_data.apply(lambda x: get_translate(x, lang_id), axis=1)\";\n",
       "                var nbb_formatted_code = \"# translate Hindi to French\\n\\n\\ndef get_translate(x, to_lang):\\n    tokenizer.src_lang = lang_id_map[x[\\\"language\\\"]]\\n    encoded_text = tokenizer(x[\\\"text\\\"], return_tensors=\\\"pt\\\").to(DEVICE)\\n    generated_tokens = model.generate(\\n        **encoded_text, forced_bos_token_id=tokenizer.get_lang_id(to_lang)\\n    )\\n    return tokenizer.batch_decode(generated_tokens, skip_special_tokens=True)\\n\\n\\nfor lang, lang_id in translate_id_map.items():\\n    sampled_data[lang] = sampled_data.apply(lambda x: get_translate(x, lang_id), axis=1)\";\n",
       "                var nbb_cells = Jupyter.notebook.get_cells();\n",
       "                for (var i = 0; i < nbb_cells.length; ++i) {\n",
       "                    if (nbb_cells[i].input_prompt_number == nbb_cell_id) {\n",
       "                        if (nbb_cells[i].get_text() == nbb_unformatted_code) {\n",
       "                             nbb_cells[i].set_text(nbb_formatted_code);\n",
       "                        }\n",
       "                        break;\n",
       "                    }\n",
       "                }\n",
       "            }, 500);\n",
       "            "
      ],
      "text/plain": [
       "<IPython.core.display.Javascript object>"
      ]
     },
     "metadata": {},
     "output_type": "display_data"
    }
   ],
   "source": [
    "# translate Hindi to French\n",
    "\n",
    "\n",
    "def get_translate(x, to_lang):\n",
    "    tokenizer.src_lang = lang_id_map[x[\"language\"]]\n",
    "    encoded_text = tokenizer(x[\"text\"], return_tensors=\"pt\").to(DEVICE)\n",
    "    generated_tokens = model.generate(\n",
    "        **encoded_text, forced_bos_token_id=tokenizer.get_lang_id(to_lang)\n",
    "    )\n",
    "    return tokenizer.batch_decode(generated_tokens, skip_special_tokens=True)\n",
    "\n",
    "\n",
    "for lang, lang_id in translate_id_map.items():\n",
    "    sampled_data[lang] = sampled_data.apply(lambda x: get_translate(x, lang_id), axis=1)"
   ]
  },
  {
   "cell_type": "code",
   "execution_count": 40,
   "id": "09b4f11c",
   "metadata": {},
   "outputs": [
    {
     "data": {
      "text/html": [
       "<div>\n",
       "<style scoped>\n",
       "    .dataframe tbody tr th:only-of-type {\n",
       "        vertical-align: middle;\n",
       "    }\n",
       "\n",
       "    .dataframe tbody tr th {\n",
       "        vertical-align: top;\n",
       "    }\n",
       "\n",
       "    .dataframe thead th {\n",
       "        text-align: right;\n",
       "    }\n",
       "</style>\n",
       "<table border=\"1\" class=\"dataframe\">\n",
       "  <thead>\n",
       "    <tr style=\"text-align: right;\">\n",
       "      <th></th>\n",
       "      <th>text</th>\n",
       "      <th>label</th>\n",
       "      <th>language</th>\n",
       "      <th>Hindi</th>\n",
       "      <th>Korean</th>\n",
       "      <th>Arabic</th>\n",
       "      <th>Dutch</th>\n",
       "    </tr>\n",
       "  </thead>\n",
       "  <tbody>\n",
       "    <tr>\n",
       "      <th>7033</th>\n",
       "      <td>Vient de publier une vidéo à Dubaï Émirat http</td>\n",
       "      <td>1.0</td>\n",
       "      <td>French</td>\n",
       "      <td>[हाल ही में एक वीडियो प्रकाशित किया गया है दुब...</td>\n",
       "      <td>[방금 두바이 에미리트 http에 비디오를 게시]</td>\n",
       "      <td>[تم نشر مقطع فيديو في دبي الإمارات http]</td>\n",
       "      <td>[Net een video gepubliceerd in Dubai Emiraten ...</td>\n",
       "    </tr>\n",
       "    <tr>\n",
       "      <th>6452</th>\n",
       "      <td>@user Avec d'autres passe temps</td>\n",
       "      <td>2.0</td>\n",
       "      <td>French</td>\n",
       "      <td>[दूसरों के साथ समय बिताने के लिए]</td>\n",
       "      <td>[다른 사람들과 함께 시간을 보내고]</td>\n",
       "      <td>[@المستخدم مع الآخرين يستغرق وقتا]</td>\n",
       "      <td>[Gebruik met anderen tijd]</td>\n",
       "    </tr>\n",
       "    <tr>\n",
       "      <th>4599</th>\n",
       "      <td>nossa to com a barriga tão grande, acho q vou ...</td>\n",
       "      <td>4.0</td>\n",
       "      <td>Portuguese</td>\n",
       "      <td>[मेरे पेट इतना बड़ा है, मुझे लगता है कि मैं एक...</td>\n",
       "      <td>[우리 토 너무 큰 뱃속, 생각 q 나는 공장 p 그 슬픔     ]</td>\n",
       "      <td>[لدينا التوت مع البطن كبير جدا، أعتقد q سأطلب ...</td>\n",
       "      <td>[Onze to met de buik zo groot, ik denk dat ik ...</td>\n",
       "    </tr>\n",
       "    <tr>\n",
       "      <th>13</th>\n",
       "      <td>Dm to buy full vids of local coloured mense fu...</td>\n",
       "      <td>4.4</td>\n",
       "      <td>English</td>\n",
       "      <td>[Dm खरीदने के लिए पूर्ण vids के स्थानीय रंगीन ...</td>\n",
       "      <td>[Dm 구매 완전한 vids 로컬 염색  엿&lt;unk&gt; http]</td>\n",
       "      <td>[Dm لشراء كاملة vids من المحلية ملونة mense ال...</td>\n",
       "      <td>[Dm om te kopen volledige vids van lokale gekl...</td>\n",
       "    </tr>\n",
       "    <tr>\n",
       "      <th>115</th>\n",
       "      <td>@user @user You have just said your grandchild...</td>\n",
       "      <td>1.6</td>\n",
       "      <td>English</td>\n",
       "      <td>[@user @user आपने बस कहा है कि आपका भतीजा ठंडा...</td>\n",
       "      <td>[@user @user 당신은 단지 당신의 조카가 차가운 것을 말했는데 어떻게 그가...</td>\n",
       "      <td>[@user @user قلت للتو أن حفيدك كان باردًا كيف ...</td>\n",
       "      <td>[@user @user Jij hebt net gezegd dat je kleink...</td>\n",
       "    </tr>\n",
       "  </tbody>\n",
       "</table>\n",
       "</div>"
      ],
      "text/plain": [
       "                                                   text  label    language  \\\n",
       "7033     Vient de publier une vidéo à Dubaï Émirat http    1.0      French   \n",
       "6452                    @user Avec d'autres passe temps    2.0      French   \n",
       "4599  nossa to com a barriga tão grande, acho q vou ...    4.0  Portuguese   \n",
       "13    Dm to buy full vids of local coloured mense fu...    4.4     English   \n",
       "115   @user @user You have just said your grandchild...    1.6     English   \n",
       "\n",
       "                                                  Hindi  \\\n",
       "7033  [हाल ही में एक वीडियो प्रकाशित किया गया है दुब...   \n",
       "6452                  [दूसरों के साथ समय बिताने के लिए]   \n",
       "4599  [मेरे पेट इतना बड़ा है, मुझे लगता है कि मैं एक...   \n",
       "13    [Dm खरीदने के लिए पूर्ण vids के स्थानीय रंगीन ...   \n",
       "115   [@user @user आपने बस कहा है कि आपका भतीजा ठंडा...   \n",
       "\n",
       "                                                 Korean  \\\n",
       "7033                        [방금 두바이 에미리트 http에 비디오를 게시]   \n",
       "6452                               [다른 사람들과 함께 시간을 보내고]   \n",
       "4599             [우리 토 너무 큰 뱃속, 생각 q 나는 공장 p 그 슬픔     ]   \n",
       "13                  [Dm 구매 완전한 vids 로컬 염색  엿<unk> http]   \n",
       "115   [@user @user 당신은 단지 당신의 조카가 차가운 것을 말했는데 어떻게 그가...   \n",
       "\n",
       "                                                 Arabic  \\\n",
       "7033           [تم نشر مقطع فيديو في دبي الإمارات http]   \n",
       "6452                 [@المستخدم مع الآخرين يستغرق وقتا]   \n",
       "4599  [لدينا التوت مع البطن كبير جدا، أعتقد q سأطلب ...   \n",
       "13    [Dm لشراء كاملة vids من المحلية ملونة mense ال...   \n",
       "115   [@user @user قلت للتو أن حفيدك كان باردًا كيف ...   \n",
       "\n",
       "                                                  Dutch  \n",
       "7033  [Net een video gepubliceerd in Dubai Emiraten ...  \n",
       "6452                         [Gebruik met anderen tijd]  \n",
       "4599  [Onze to met de buik zo groot, ik denk dat ik ...  \n",
       "13    [Dm om te kopen volledige vids van lokale gekl...  \n",
       "115   [@user @user Jij hebt net gezegd dat je kleink...  "
      ]
     },
     "execution_count": 40,
     "metadata": {},
     "output_type": "execute_result"
    },
    {
     "data": {
      "application/javascript": [
       "\n",
       "            setTimeout(function() {\n",
       "                var nbb_cell_id = 40;\n",
       "                var nbb_unformatted_code = \"sampled_data.head()\";\n",
       "                var nbb_formatted_code = \"sampled_data.head()\";\n",
       "                var nbb_cells = Jupyter.notebook.get_cells();\n",
       "                for (var i = 0; i < nbb_cells.length; ++i) {\n",
       "                    if (nbb_cells[i].input_prompt_number == nbb_cell_id) {\n",
       "                        if (nbb_cells[i].get_text() == nbb_unformatted_code) {\n",
       "                             nbb_cells[i].set_text(nbb_formatted_code);\n",
       "                        }\n",
       "                        break;\n",
       "                    }\n",
       "                }\n",
       "            }, 500);\n",
       "            "
      ],
      "text/plain": [
       "<IPython.core.display.Javascript object>"
      ]
     },
     "metadata": {},
     "output_type": "display_data"
    }
   ],
   "source": [
    "sampled_data.head()"
   ]
  },
  {
   "cell_type": "code",
   "execution_count": 53,
   "id": "a2f60ddd",
   "metadata": {},
   "outputs": [
    {
     "data": {
      "application/javascript": [
       "\n",
       "            setTimeout(function() {\n",
       "                var nbb_cell_id = 53;\n",
       "                var nbb_unformatted_code = \"sampled_data.to_csv(\\\"sample_translated.csv\\\", sep=\\\"\\\\t\\\")\";\n",
       "                var nbb_formatted_code = \"sampled_data.to_csv(\\\"sample_translated.csv\\\", sep=\\\"\\\\t\\\")\";\n",
       "                var nbb_cells = Jupyter.notebook.get_cells();\n",
       "                for (var i = 0; i < nbb_cells.length; ++i) {\n",
       "                    if (nbb_cells[i].input_prompt_number == nbb_cell_id) {\n",
       "                        if (nbb_cells[i].get_text() == nbb_unformatted_code) {\n",
       "                             nbb_cells[i].set_text(nbb_formatted_code);\n",
       "                        }\n",
       "                        break;\n",
       "                    }\n",
       "                }\n",
       "            }, 500);\n",
       "            "
      ],
      "text/plain": [
       "<IPython.core.display.Javascript object>"
      ]
     },
     "metadata": {},
     "output_type": "display_data"
    }
   ],
   "source": [
    "sampled_data.to_csv(\"sample_translated.csv\", sep=\"\\t\")"
   ]
  },
  {
   "cell_type": "code",
   "execution_count": 44,
   "id": "04e37ac0",
   "metadata": {},
   "outputs": [
    {
     "data": {
      "text/plain": [
       "{'text': 'Vient de publier une vidéo à Dubaï Émirat http',\n",
       " 'label': 1.0,\n",
       " 'language': 'French',\n",
       " 'Hindi': ['हाल ही में एक वीडियो प्रकाशित किया गया है दुबई एमिरैट http'],\n",
       " 'Korean': ['방금 두바이 에미리트 http에 비디오를 게시'],\n",
       " 'Arabic': ['تم نشر مقطع فيديو في دبي الإمارات http'],\n",
       " 'Dutch': ['Net een video gepubliceerd in Dubai Emiraten HTTP']}"
      ]
     },
     "execution_count": 44,
     "metadata": {},
     "output_type": "execute_result"
    },
    {
     "data": {
      "application/javascript": [
       "\n",
       "            setTimeout(function() {\n",
       "                var nbb_cell_id = 44;\n",
       "                var nbb_unformatted_code = \"sampled_data.iloc[0].to_dict()\";\n",
       "                var nbb_formatted_code = \"sampled_data.iloc[0].to_dict()\";\n",
       "                var nbb_cells = Jupyter.notebook.get_cells();\n",
       "                for (var i = 0; i < nbb_cells.length; ++i) {\n",
       "                    if (nbb_cells[i].input_prompt_number == nbb_cell_id) {\n",
       "                        if (nbb_cells[i].get_text() == nbb_unformatted_code) {\n",
       "                             nbb_cells[i].set_text(nbb_formatted_code);\n",
       "                        }\n",
       "                        break;\n",
       "                    }\n",
       "                }\n",
       "            }, 500);\n",
       "            "
      ],
      "text/plain": [
       "<IPython.core.display.Javascript object>"
      ]
     },
     "metadata": {},
     "output_type": "display_data"
    }
   ],
   "source": [
    "sampled_data.iloc[0].to_dict()"
   ]
  },
  {
   "cell_type": "code",
   "execution_count": 49,
   "id": "94fa5ad8",
   "metadata": {},
   "outputs": [
    {
     "data": {
      "application/javascript": [
       "\n",
       "            setTimeout(function() {\n",
       "                var nbb_cell_id = 49;\n",
       "                var nbb_unformatted_code = \"translated_data = []\\n\\nfor idx, row in sampled_data.iterrows():\\n    row = row.to_dict()\\n    del row[\\\"text\\\"], row[\\\"language\\\"]\\n    for lang in translate_id_map.keys():\\n        to_append = {}\\n        to_append[\\\"label\\\"] = row[\\\"label\\\"]\\n        to_append[\\\"text\\\"] = row[lang]\\n        to_append[\\\"language\\\"] = lang\\n        translated_data.append(to_append)\";\n",
       "                var nbb_formatted_code = \"translated_data = []\\n\\nfor idx, row in sampled_data.iterrows():\\n    row = row.to_dict()\\n    del row[\\\"text\\\"], row[\\\"language\\\"]\\n    for lang in translate_id_map.keys():\\n        to_append = {}\\n        to_append[\\\"label\\\"] = row[\\\"label\\\"]\\n        to_append[\\\"text\\\"] = row[lang]\\n        to_append[\\\"language\\\"] = lang\\n        translated_data.append(to_append)\";\n",
       "                var nbb_cells = Jupyter.notebook.get_cells();\n",
       "                for (var i = 0; i < nbb_cells.length; ++i) {\n",
       "                    if (nbb_cells[i].input_prompt_number == nbb_cell_id) {\n",
       "                        if (nbb_cells[i].get_text() == nbb_unformatted_code) {\n",
       "                             nbb_cells[i].set_text(nbb_formatted_code);\n",
       "                        }\n",
       "                        break;\n",
       "                    }\n",
       "                }\n",
       "            }, 500);\n",
       "            "
      ],
      "text/plain": [
       "<IPython.core.display.Javascript object>"
      ]
     },
     "metadata": {},
     "output_type": "display_data"
    }
   ],
   "source": [
    "translated_data = []\n",
    "\n",
    "for idx, row in sampled_data.iterrows():\n",
    "    row = row.to_dict()\n",
    "    del row[\"text\"], row[\"language\"]\n",
    "    for lang in translate_id_map.keys():\n",
    "        to_append = {}\n",
    "        to_append[\"label\"] = row[\"label\"]\n",
    "        to_append[\"text\"] = row[lang]\n",
    "        to_append[\"language\"] = lang\n",
    "        translated_data.append(to_append)"
   ]
  },
  {
   "cell_type": "code",
   "execution_count": 50,
   "id": "c9d516b8",
   "metadata": {},
   "outputs": [
    {
     "data": {
      "application/javascript": [
       "\n",
       "            setTimeout(function() {\n",
       "                var nbb_cell_id = 50;\n",
       "                var nbb_unformatted_code = \"translated = pd.DataFrame(translated_data)\";\n",
       "                var nbb_formatted_code = \"translated = pd.DataFrame(translated_data)\";\n",
       "                var nbb_cells = Jupyter.notebook.get_cells();\n",
       "                for (var i = 0; i < nbb_cells.length; ++i) {\n",
       "                    if (nbb_cells[i].input_prompt_number == nbb_cell_id) {\n",
       "                        if (nbb_cells[i].get_text() == nbb_unformatted_code) {\n",
       "                             nbb_cells[i].set_text(nbb_formatted_code);\n",
       "                        }\n",
       "                        break;\n",
       "                    }\n",
       "                }\n",
       "            }, 500);\n",
       "            "
      ],
      "text/plain": [
       "<IPython.core.display.Javascript object>"
      ]
     },
     "metadata": {},
     "output_type": "display_data"
    }
   ],
   "source": [
    "translated = pd.DataFrame(translated_data)"
   ]
  },
  {
   "cell_type": "code",
   "execution_count": 51,
   "id": "49cecb32",
   "metadata": {},
   "outputs": [
    {
     "data": {
      "text/html": [
       "<div>\n",
       "<style scoped>\n",
       "    .dataframe tbody tr th:only-of-type {\n",
       "        vertical-align: middle;\n",
       "    }\n",
       "\n",
       "    .dataframe tbody tr th {\n",
       "        vertical-align: top;\n",
       "    }\n",
       "\n",
       "    .dataframe thead th {\n",
       "        text-align: right;\n",
       "    }\n",
       "</style>\n",
       "<table border=\"1\" class=\"dataframe\">\n",
       "  <thead>\n",
       "    <tr style=\"text-align: right;\">\n",
       "      <th></th>\n",
       "      <th>label</th>\n",
       "      <th>text</th>\n",
       "      <th>language</th>\n",
       "    </tr>\n",
       "  </thead>\n",
       "  <tbody>\n",
       "    <tr>\n",
       "      <th>0</th>\n",
       "      <td>1.0</td>\n",
       "      <td>[हाल ही में एक वीडियो प्रकाशित किया गया है दुब...</td>\n",
       "      <td>Hindi</td>\n",
       "    </tr>\n",
       "    <tr>\n",
       "      <th>1</th>\n",
       "      <td>1.0</td>\n",
       "      <td>[방금 두바이 에미리트 http에 비디오를 게시]</td>\n",
       "      <td>Korean</td>\n",
       "    </tr>\n",
       "    <tr>\n",
       "      <th>2</th>\n",
       "      <td>1.0</td>\n",
       "      <td>[تم نشر مقطع فيديو في دبي الإمارات http]</td>\n",
       "      <td>Arabic</td>\n",
       "    </tr>\n",
       "    <tr>\n",
       "      <th>3</th>\n",
       "      <td>1.0</td>\n",
       "      <td>[Net een video gepubliceerd in Dubai Emiraten ...</td>\n",
       "      <td>Dutch</td>\n",
       "    </tr>\n",
       "    <tr>\n",
       "      <th>4</th>\n",
       "      <td>2.0</td>\n",
       "      <td>[दूसरों के साथ समय बिताने के लिए]</td>\n",
       "      <td>Hindi</td>\n",
       "    </tr>\n",
       "  </tbody>\n",
       "</table>\n",
       "</div>"
      ],
      "text/plain": [
       "   label                                               text language\n",
       "0    1.0  [हाल ही में एक वीडियो प्रकाशित किया गया है दुब...    Hindi\n",
       "1    1.0                        [방금 두바이 에미리트 http에 비디오를 게시]   Korean\n",
       "2    1.0           [تم نشر مقطع فيديو في دبي الإمارات http]   Arabic\n",
       "3    1.0  [Net een video gepubliceerd in Dubai Emiraten ...    Dutch\n",
       "4    2.0                  [दूसरों के साथ समय बिताने के लिए]    Hindi"
      ]
     },
     "execution_count": 51,
     "metadata": {},
     "output_type": "execute_result"
    },
    {
     "data": {
      "application/javascript": [
       "\n",
       "            setTimeout(function() {\n",
       "                var nbb_cell_id = 51;\n",
       "                var nbb_unformatted_code = \"translated.head()\";\n",
       "                var nbb_formatted_code = \"translated.head()\";\n",
       "                var nbb_cells = Jupyter.notebook.get_cells();\n",
       "                for (var i = 0; i < nbb_cells.length; ++i) {\n",
       "                    if (nbb_cells[i].input_prompt_number == nbb_cell_id) {\n",
       "                        if (nbb_cells[i].get_text() == nbb_unformatted_code) {\n",
       "                             nbb_cells[i].set_text(nbb_formatted_code);\n",
       "                        }\n",
       "                        break;\n",
       "                    }\n",
       "                }\n",
       "            }, 500);\n",
       "            "
      ],
      "text/plain": [
       "<IPython.core.display.Javascript object>"
      ]
     },
     "metadata": {},
     "output_type": "display_data"
    }
   ],
   "source": [
    "translated.head()"
   ]
  },
  {
   "cell_type": "code",
   "execution_count": 54,
   "id": "2916964d",
   "metadata": {},
   "outputs": [
    {
     "data": {
      "application/javascript": [
       "\n",
       "            setTimeout(function() {\n",
       "                var nbb_cell_id = 54;\n",
       "                var nbb_unformatted_code = \"translated.to_csv(\\\"translated.tsv\\\", sep=\\\"\\\\t\\\")\";\n",
       "                var nbb_formatted_code = \"translated.to_csv(\\\"translated.tsv\\\", sep=\\\"\\\\t\\\")\";\n",
       "                var nbb_cells = Jupyter.notebook.get_cells();\n",
       "                for (var i = 0; i < nbb_cells.length; ++i) {\n",
       "                    if (nbb_cells[i].input_prompt_number == nbb_cell_id) {\n",
       "                        if (nbb_cells[i].get_text() == nbb_unformatted_code) {\n",
       "                             nbb_cells[i].set_text(nbb_formatted_code);\n",
       "                        }\n",
       "                        break;\n",
       "                    }\n",
       "                }\n",
       "            }, 500);\n",
       "            "
      ],
      "text/plain": [
       "<IPython.core.display.Javascript object>"
      ]
     },
     "metadata": {},
     "output_type": "display_data"
    }
   ],
   "source": [
    "translated.to_csv(\"translated.tsv\", sep=\"\\t\")"
   ]
  },
  {
   "cell_type": "code",
   "execution_count": 52,
   "id": "fc49ec8f",
   "metadata": {},
   "outputs": [
    {
     "name": "stdout",
     "output_type": "stream",
     "text": [
      "<class 'pandas.core.frame.DataFrame'>\n",
      "RangeIndex: 6324 entries, 0 to 6323\n",
      "Data columns (total 3 columns):\n",
      " #   Column    Non-Null Count  Dtype  \n",
      "---  ------    --------------  -----  \n",
      " 0   label     6324 non-null   float64\n",
      " 1   text      6324 non-null   object \n",
      " 2   language  6324 non-null   object \n",
      "dtypes: float64(1), object(2)\n",
      "memory usage: 148.3+ KB\n"
     ]
    },
    {
     "data": {
      "application/javascript": [
       "\n",
       "            setTimeout(function() {\n",
       "                var nbb_cell_id = 52;\n",
       "                var nbb_unformatted_code = \"translated.info()\";\n",
       "                var nbb_formatted_code = \"translated.info()\";\n",
       "                var nbb_cells = Jupyter.notebook.get_cells();\n",
       "                for (var i = 0; i < nbb_cells.length; ++i) {\n",
       "                    if (nbb_cells[i].input_prompt_number == nbb_cell_id) {\n",
       "                        if (nbb_cells[i].get_text() == nbb_unformatted_code) {\n",
       "                             nbb_cells[i].set_text(nbb_formatted_code);\n",
       "                        }\n",
       "                        break;\n",
       "                    }\n",
       "                }\n",
       "            }, 500);\n",
       "            "
      ],
      "text/plain": [
       "<IPython.core.display.Javascript object>"
      ]
     },
     "metadata": {},
     "output_type": "display_data"
    }
   ],
   "source": [
    "\n",
    "translated.info()"
   ]
  },
  {
   "cell_type": "code",
   "execution_count": null,
   "id": "368ab738",
   "metadata": {},
   "outputs": [],
   "source": []
  }
 ],
 "metadata": {
  "kernelspec": {
   "display_name": "Python 3 (ipykernel)",
   "language": "python",
   "name": "python3"
  },
  "language_info": {
   "codemirror_mode": {
    "name": "ipython",
    "version": 3
   },
   "file_extension": ".py",
   "mimetype": "text/x-python",
   "name": "python",
   "nbconvert_exporter": "python",
   "pygments_lexer": "ipython3",
   "version": "3.10.6"
  }
 },
 "nbformat": 4,
 "nbformat_minor": 5
}
